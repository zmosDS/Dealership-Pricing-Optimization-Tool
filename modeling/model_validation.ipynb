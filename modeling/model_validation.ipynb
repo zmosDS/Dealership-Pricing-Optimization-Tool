{
 "cells": [
  {
   "cell_type": "markdown",
   "id": "b9b7c727-bcc4-452d-883d-809762049808",
   "metadata": {},
   "source": [
    "### **Objective**\n",
    "To validate the performance of the XGBoost model on new data collected nearly a month after the original training data. The objective is to assess the model’s robustness in predicting car prices amidst significant market fluctuations, ensuring its effectiveness as a pricing optimization tool over time.\n",
    "\n",
    "### **Summary**\n",
    "In this notebook, the XGBoost model trained on data from July 21st was evaluated using new data from August 16th. Given the month-long gap, significant changes in the market were expected to impact the model’s performance. This validation process involved aligning and scaling the new data with the original training features, followed by a comparison of the model's predictive accuracy on both datasets.\n",
    "\n",
    "### **Key Findings**\n",
    "- **Mean Absolute Error (MAE):**\n",
    "  - Original Data (July 21st): **\\$1,680.10**\n",
    "  - Validation Data (August 16th): **\\$2,760.08**\n",
    "  - **Comparison:** The MAE increased by \\$1,079.98, reflecting market fluctuations over the past month. The error remains within a reasonable range, representing approximately **21.12%** of the standard deviation of prices in the validation set.\n",
    "\n",
    "\n",
    "<br>\n",
    "\n",
    "- **Mean Squared Error (MSE):**\n",
    "  - Original Data (July 21st): **6,899,667.86**\n",
    "  - Validation Data (August 16th): **21,098,306.57**\n",
    "  - **Comparison:** The MSE more than tripled, highlighting a significant rise in larger errors. This increase underscores the effect of market shifts on the model's prediction accuracy.\n",
    "\n",
    "<br>\n",
    "\n",
    "- **R2 Score:**\n",
    "  - Original Data (July 21st): **0.9604**\n",
    "  - Validation Data (August 16th): **0.8764**\n",
    "  - **Comparison:** The R2 score dropped by 0.084, indicating a reduction in the model's ability to explain the variance in car prices. Despite this, the R2 score remains relatively strong, suggesting that the model still captures most of the variance in the data.\n",
    "\n",
    "- **Data Set Size Consideration:**\n",
    "  - The validation set consisted of **9,229** samples, compared to **66,282** for training and **16,571** for testing in the original data. The smaller size of the validation set could contribute to higher variability in performance metrics, as it may not fully capture the range of conditions seen in the larger training set.\n",
    "\n",
    "### **Conclusion**\n",
    "The validation confirms that while the XGBoost model experiences a decline in performance when applied to new data collected during a period of market volatility, it still provides reasonably accurate predictions. The increase in error metrics is a natural consequence of the market changes, and the smaller validation set may also contribute to this variability. Nonetheless, the model’s performance remains within an acceptable range, validating its continued use as a pricing optimization tool. To ensure sustained accuracy, it is recommended that the model be periodically retrained with updated data, particularly in rapidly changing market environments.\n"
   ]
  },
  {
   "cell_type": "code",
   "execution_count": 1,
   "id": "3556cdec-e94c-4a12-83fa-f4332431e9ef",
   "metadata": {},
   "outputs": [
    {
     "name": "stderr",
     "output_type": "stream",
     "text": [
      "Intel(R) Extension for Scikit-learn* enabled (https://github.com/intel/scikit-learn-intelex)\n"
     ]
    }
   ],
   "source": [
    "from pathlib import Path\n",
    "import pandas as pd\n",
    "import joblib\n",
    "import time\n",
    "from datetime import datetime\n",
    "from sklearnex import patch_sklearn\n",
    "patch_sklearn()\n",
    "import xgboost as xgb\n",
    "from sklearn import metrics\n",
    "from sklearn.preprocessing import StandardScaler\n",
    "from sklearn.model_selection import train_test_split, StratifiedKFold\n",
    "from sklearn.metrics import accuracy_score, r2_score"
   ]
  },
  {
   "cell_type": "code",
   "execution_count": 2,
   "id": "5fa35497-e24c-41fd-b217-4dc5630b4e83",
   "metadata": {},
   "outputs": [
    {
     "name": "stdout",
     "output_type": "stream",
     "text": [
      "Data imported\n"
     ]
    }
   ],
   "source": [
    "df_validation = pd.read_csv('cleaned_data_aug_16th.csv') \n",
    "print('Data imported')"
   ]
  },
  {
   "cell_type": "code",
   "execution_count": 13,
   "id": "0777f9e9-0ef4-49b7-8b63-3eb59ea17b7a",
   "metadata": {},
   "outputs": [
    {
     "name": "stdout",
     "output_type": "stream",
     "text": [
      "Number of Rows and Columns: (9229, 9)\n",
      "\n",
      "\n",
      "Summary Statistics\n",
      "         Year     Price   Mileage\n",
      "count  9229.0    9229.0    9229.0\n",
      "mean   2019.9   26628.8   55274.0\n",
      "std       3.0   13067.6   39231.3\n",
      "min    2010.0    2950.0    1002.0\n",
      "25%    2018.0   17998.0   24565.0\n",
      "50%    2021.0   23990.0   47128.0\n",
      "75%    2022.0   31702.0   78890.0\n",
      "max    2024.0  109890.0  270964.0\n"
     ]
    }
   ],
   "source": [
    "# Drop irrelevant columns\n",
    "df_validation.drop(columns=['Listing ID', 'Stock Type'], inplace=True)\n",
    "\n",
    "print(\"Number of Rows and Columns:\", df_validation.shape)\n",
    "print(\"\\n\")\n",
    "\n",
    "print(\"Summary Statistics\")\n",
    "print(round(df_validation.describe(),1))"
   ]
  },
  {
   "cell_type": "markdown",
   "id": "e24c4de4-9787-4435-a95a-885269d770fc",
   "metadata": {},
   "source": [
    "### Load Model"
   ]
  },
  {
   "cell_type": "code",
   "execution_count": 21,
   "id": "e99f7fc2-d24e-45bc-ac53-5a1a31616855",
   "metadata": {},
   "outputs": [
    {
     "name": "stdout",
     "output_type": "stream",
     "text": [
      "Model loaded\n"
     ]
    }
   ],
   "source": [
    "# Load the model from the file\n",
    "cars_xgb_model = joblib.load('cars_xgb_model.pkl')\n",
    "\n",
    "# Load the saved scaler\n",
    "scaler = joblib.load('cars_scaler.pkl')\n",
    "\n",
    "print('Model loaded')"
   ]
  },
  {
   "cell_type": "code",
   "execution_count": 25,
   "id": "fa8ec3ff-a4d0-4405-8c67-4ef342c21e31",
   "metadata": {},
   "outputs": [
    {
     "name": "stdout",
     "output_type": "stream",
     "text": [
      "\n",
      "\u001b[1mModel Performance on Original Data:\u001b[0m\n",
      "Mean Absolute Error (MAE):  1680.1063897516956\n",
      "Mean Squared Error  (MSE):  6899667.861436898\n",
      "R2 Score             (R2):  0.9603779299684401\n",
      "\n",
      "\u001b[1mModel Performance on Validation Set from 8/15:\u001b[0m\n",
      "Mean Absolute Error (MAE):  2760.0871583883004\n",
      "Mean Squared Error  (MSE):  21093686.751713946\n",
      "R2 Score             (R2):  0.8764603568996824\n"
     ]
    }
   ],
   "source": [
    "# Define features\n",
    "features = ['Year', 'Model', 'State', 'Mileage', 'Trim', 'Make', 'Body Style']\n",
    "\n",
    "# Prepare validation data\n",
    "X_validation = pd.get_dummies(df_validation[features], drop_first=False)\n",
    "\n",
    "# Align the validation set with the training set's columns (this is crucial)\n",
    "X_validation = X_validation.reindex(columns=scaler.feature_names_in_, fill_value=0)\n",
    "\n",
    "# Scale the validation data using the loaded scaler\n",
    "X_validation_scaled = scaler.transform(X_validation)\n",
    "\n",
    "# Convert back to DataFrame to maintain column names (optional)\n",
    "X_validation_scaled = pd.DataFrame(X_validation_scaled, columns=scaler.feature_names_in_)\n",
    "\n",
    "# Make predictions on the validation set\n",
    "y_pred = cars_xgb_model.predict(X_validation_scaled)\n",
    "\n",
    "# Assuming df_validation has the actual prices in a 'Price' column:\n",
    "y_validation = df_validation['Price'].values\n",
    "\n",
    "print(\"\\n\\033[1mModel Performance on Original Data:\\033[0m\")\n",
    "print('Mean Absolute Error (MAE):  1680.1063897516956')\n",
    "print('Mean Squared Error  (MSE):  6899667.861436898')\n",
    "print('R2 Score             (R2):  0.9603779299684401')\n",
    "\n",
    "print(\"\\n\\033[1mModel Performance on Validation Set from 8/15:\\033[0m\")\n",
    "print(\"Mean Absolute Error (MAE): \", metrics.mean_absolute_error(y_validation, y_pred))\n",
    "print(\"Mean Squared Error  (MSE): \", metrics.mean_squared_error(y_validation, y_pred))\n",
    "print(\"R2 Score             (R2): \", metrics.r2_score(y_validation, y_pred))"
   ]
  }
 ],
 "metadata": {
  "kernelspec": {
   "display_name": "Python 3 (ipykernel)",
   "language": "python",
   "name": "python3"
  },
  "language_info": {
   "codemirror_mode": {
    "name": "ipython",
    "version": 3
   },
   "file_extension": ".py",
   "mimetype": "text/x-python",
   "name": "python",
   "nbconvert_exporter": "python",
   "pygments_lexer": "ipython3",
   "version": "3.11.5"
  }
 },
 "nbformat": 4,
 "nbformat_minor": 5
}
