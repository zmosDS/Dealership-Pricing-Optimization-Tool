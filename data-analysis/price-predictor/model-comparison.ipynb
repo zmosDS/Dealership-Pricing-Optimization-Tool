{
 "cells": [
  {
   "cell_type": "markdown",
   "id": "5f57bc1d-78d2-4e24-a591-439a6e6848ce",
   "metadata": {},
   "source": [
    "# Model Comparison\n",
    "\n",
    "## Introduction\n",
    "In this notebook, I compare the performance of multiple machine learning models for predicting car prices. I focus on six different initial models and evaluate their performance using metrics such as Mean Absolute Error (MAE), Mean Squared Error (MSE), and R2 Score.\n",
    "\n",
    "## Summary\n",
    "### Key Findings\n",
    "- **Random Forest:**\n",
    "  - Mean Absolute Error (MAE): 2841.05\n",
    "  - Mean Squared Error (MSE): 21853604.32\n",
    "  - R2 Score: 0.8781\n",
    "<br>\n",
    "<br>\n",
    "- **XGBoost:**\n",
    "  - Mean Absolute Error (MAE): 3017.48\n",
    "  - Mean Squared Error (MSE): 21386162.54\n",
    "  - R2 Score: 0.8808\n",
    "\n",
    "\n",
    "### Conclusion\n",
    "Both the Random Forest and XGBoost models performed well, with Random Forest having the best overall intial performance. XGBoost handled large errors marginally better, indicated in the R2 score. I will proceed with hyperparameter tuning for both models to improve their performance further. "
   ]
  },
  {
   "cell_type": "code",
   "execution_count": 1,
   "id": "3f5bef7f-78a4-4ad6-ae43-23a8b4d4b42e",
   "metadata": {},
   "outputs": [
    {
     "name": "stderr",
     "output_type": "stream",
     "text": [
      "Intel(R) Extension for Scikit-learn* enabled (https://github.com/intel/scikit-learn-intelex)\n"
     ]
    }
   ],
   "source": [
    "from pathlib import Path\n",
    "import pandas as pd\n",
    "import numpy as np\n",
    "from sklearnex import patch_sklearn # speeds up algorithms on intel processors for mac\n",
    "patch_sklearn()\n",
    "from sklearn.Linear_model import LinearRegression, Lasso, Ridge, LassoCV, RidgeCV\n",
    "import xgboost as xgb\n",
    "import seaborn as sns\n",
    "from sklearn import metrics, svm, preprocessing\n",
    "from sklearn.preprocessing import StandardScaler\n",
    "from sklearn.svm import SVR, LinearSVR\n",
    "from sklearn.model_selection import train_test_split\n",
    "from sklearn.metrics import accuracy_score, classification_report\n",
    "from sklearn.ensemble import RandomForestRegressor\n",
    "import time\n",
    "from datetime import datetime"
   ]
  },
  {
   "cell_type": "markdown",
   "id": "401134f6-75a7-4c95-888e-2de895520592",
   "metadata": {},
   "source": [
    "## Scaling & Partioning Data\n",
    "#### 80% test / 20% train"
   ]
  },
  {
   "cell_type": "code",
   "execution_count": 2,
   "id": "b99ae23d-10c3-40a1-a700-95a7c0e1d759",
   "metadata": {},
   "outputs": [
    {
     "name": "stdout",
     "output_type": "stream",
     "text": [
      "Data Processing Finished\n"
     ]
    }
   ],
   "source": [
    "cars_df = pd.read_csv('Car Data Cleaned.csv')\n",
    "\n",
    "predictors = ['Year', 'Model', 'State', 'Mileage']\n",
    "\n",
    "X = pd.get_dummies(cars_df[predictors], drop_first=False).values # one-hot encodes categorical columns\n",
    "y = cars_df['Price'].values.reshape(-1,1)\n",
    "\n",
    "column_names = pd.get_dummies(cars_df[predictors], drop_first=False) # fixes numpy array error\n",
    "\n",
    "scaler = StandardScaler()\n",
    "X_scaled = scaler.fit_transform(X)\n",
    "X_scaled = pd.DataFrame(X_scaled, columns=column_names.columns) #convert back to DataFrame to maintain column names / use x2 otherwise error \n",
    "\n",
    "# splitting data\n",
    "X_train, X_test, y_train, y_test = train_test_split(X_scaled, y, test_size=.2, random_state=1)\n",
    "\n",
    "print('Data Processing Finished')"
   ]
  },
  {
   "cell_type": "markdown",
   "id": "df865ce9-d9cd-4fe4-9c7d-1874dd4d6be8",
   "metadata": {},
   "source": [
    "# Model Comparison"
   ]
  },
  {
   "cell_type": "markdown",
   "id": "f5984a48-e5aa-496f-8b88-e24b0365da1d",
   "metadata": {},
   "source": [
    "## Linear Regression\n",
    "\n",
    "#### Baseline model"
   ]
  },
  {
   "cell_type": "code",
   "execution_count": 3,
   "id": "104af758-be8e-4425-9466-ac0decf1d6fe",
   "metadata": {},
   "outputs": [
    {
     "name": "stdout",
     "output_type": "stream",
     "text": [
      "intercept  12175.147152581978\n",
      "         Predictor   coefficient\n",
      "0             Year   4371.740331\n",
      "1          Mileage  -3961.047810\n",
      "2       Model_370z  -8117.330227\n",
      "3    Model_4runner -31240.426375\n",
      "4         Model_86  -2291.306801\n",
      "..             ...           ...\n",
      "333       State_VT  14305.366320\n",
      "334       State_WA  41700.820438\n",
      "335       State_WI  49996.538895\n",
      "336       State_WV  20841.242387\n",
      "337       State_WY   7342.995466\n",
      "\n",
      "[338 rows x 2 columns]\n",
      "\n",
      "\n",
      "\u001b[1mLinear Regression Performance:\u001b[0m\n",
      "Mean Absolute Error (MAE):  4175153.4496936365\n",
      "Mean Squared Error  (MSE):  1.4512715646334742e+17\n",
      "R2 Score             (R2):  -809191514.02251\n",
      "\n",
      "\n",
      "\n",
      "0.0 minutes to execute.\n"
     ]
    }
   ],
   "source": [
    "start_time = time.time()\n",
    "\n",
    "# Create model\n",
    "Linear_model = LinearRegression()\n",
    "Linear_model.fit(X_train,y_train.ravel())\n",
    "\n",
    "# Predict the response for test dataset\n",
    "pred_linear = Linear_model.predict(X_test)\n",
    "\n",
    "# Print coefficients & performance\n",
    "print('intercept ', Linear_model.intercept_)\n",
    "print(pd.DataFrame({'Predictor': X_scaled.columns, 'coefficient': Linear_model.coef_}))\n",
    "print('\\n')\n",
    "print(\"\\033[1mLinear Regression Performance:\\033[0m\")\n",
    "print(\"Mean Absolute Error (MAE): \", metrics.mean_absolute_error(y_test, pred_linear))\n",
    "print(\"Mean Squared Error  (MSE): \", metrics.mean_squared_error(y_test, pred_linear))\n",
    "print(\"R2 Score             (R2): \", metrics.r2_score(y_test, pred_linear))\n",
    "\n",
    "end_time = time.time()\n",
    "elapsed_time = (end_time - start_time) / 60\n",
    "print('\\n\\n')\n",
    "print(f\"{elapsed_time:.1f} minutes to execute.\")"
   ]
  },
  {
   "cell_type": "markdown",
   "id": "137377e1-c3fa-47a4-8e26-00c317aa80f2",
   "metadata": {},
   "source": [
    "## Random Forest"
   ]
  },
  {
   "cell_type": "code",
   "execution_count": 4,
   "id": "dc330c94-f87e-4904-84f0-61e9bcc539e3",
   "metadata": {},
   "outputs": [
    {
     "name": "stdout",
     "output_type": "stream",
     "text": [
      "\u001b[1mRandom Forest Regression Performance:\u001b[0m\n",
      "Mean Absolute Error (MAE):  2841.0501529556477\n",
      "Mean Squared Error  (MSE):  21853604.317072425\n",
      "R2 Score             (R2):  0.8781499505883282\n",
      "\n",
      "\n",
      "\n",
      "0.8 minutes to execute.\n"
     ]
    }
   ],
   "source": [
    "start_time = time.time()\n",
    "\n",
    "# Create model\n",
    "RF_model = RandomForestRegressor(n_jobs=-1)\n",
    "RF_model.fit(X_train,y_train.ravel())\n",
    "\n",
    "# Predict the response for test dataset\n",
    "pred_RF = RF_model.predict(X_test)\n",
    "\n",
    "# Print performance\n",
    "print(\"\\033[1mRandom Forest Regression Performance:\\033[0m\")\n",
    "print(\"Mean Absolute Error (MAE): \", metrics.mean_absolute_error(y_test, pred_RF))\n",
    "print(\"Mean Squared Error  (MSE): \", metrics.mean_squared_error(y_test, pred_RF))\n",
    "print(\"R2 Score             (R2): \", metrics.r2_score(y_test, pred_RF))\n",
    "\n",
    "end_time = time.time()\n",
    "elapsed_time = (end_time - start_time) / 60\n",
    "print('\\n\\n')\n",
    "print(f\"{elapsed_time:.1f} minutes to execute.\")"
   ]
  },
  {
   "cell_type": "markdown",
   "id": "512922e5-811b-4dd5-ab1a-dd4375cb6ec0",
   "metadata": {},
   "source": [
    "## XGBoost"
   ]
  },
  {
   "cell_type": "code",
   "execution_count": 5,
   "id": "2a6a215f-7b58-4f3e-9fc4-08a23efcd425",
   "metadata": {},
   "outputs": [
    {
     "name": "stdout",
     "output_type": "stream",
     "text": [
      "\u001b[1mXGBoost Performance:\u001b[0m\n",
      "Mean Absolute Error (MAE):  3017.4821608950706\n",
      "Mean Squared Error  (MSE):  21386162.54130363\n",
      "R2 Score             (R2):  0.8807562851154895\n",
      "\n",
      "\n",
      "\n",
      "0.0 minutes to execute.\n"
     ]
    }
   ],
   "source": [
    "start_time = time.time()\n",
    "\n",
    "# Create model\n",
    "XGBoost_model = xgb.XGBRegressor()\n",
    "XGBoost_model.fit(X_train, y_train.ravel())\n",
    "\n",
    "# Predict the response for test dataset\n",
    "pred_XGBoost = XGBoost_model.predict(X_test)\n",
    "\n",
    "# print performance\n",
    "print(\"\\033[1mXGBoost Performance:\\033[0m\")\n",
    "print(\"Mean Absolute Error (MAE): \", metrics.mean_absolute_error(y_test, pred_XGBoost))\n",
    "print(\"Mean Squared Error  (MSE): \", metrics.mean_squared_error(y_test, pred_XGBoost))\n",
    "print(\"R2 Score             (R2): \", metrics.r2_score(y_test, pred_XGBoost))\n",
    "\n",
    "end_time = time.time()\n",
    "elapsed_time = (end_time - start_time) / 60\n",
    "print('\\n\\n')\n",
    "print(f\"{elapsed_time:.1f} minutes to execute.\")"
   ]
  },
  {
   "cell_type": "markdown",
   "id": "96bbfa06-2a41-4d1a-a3ec-cd8667ecab4b",
   "metadata": {},
   "source": [
    "## Ridge Regression"
   ]
  },
  {
   "cell_type": "code",
   "execution_count": 6,
   "id": "6799dc42-dfa0-4907-8116-75798f9367e9",
   "metadata": {},
   "outputs": [
    {
     "name": "stdout",
     "output_type": "stream",
     "text": [
      "\u001b[1mRidge Regression Performance:\u001b[0m\n",
      "Mean Absolute Error (MAE):  3430.504209729433\n",
      "Mean Squared Error  (MSE):  28128574.353743095\n",
      "R2 Score             (R2):  0.8431623394862201\n",
      "\n",
      "\n",
      "\n",
      "0.2 minutes to execute.\n"
     ]
    }
   ],
   "source": [
    "start_time = time.time()\n",
    "\n",
    "# Create model (using more accurate RidgeCV vs Ridge) \n",
    "Ridge_model = RidgeCV(alphas=np.logspace(-6, 6, 13), cv=5) #logspace finds the best alpha with ridgecv\n",
    "Ridge_model.fit(X_train,y_train.ravel())\n",
    "\n",
    "# Predict the response for test dataset\n",
    "pred_Ridge = Ridge_model.predict(X_test)\n",
    "\n",
    "# Print performance\n",
    "print(\"\\033[1mRidge Regression Performance:\\033[0m\")\n",
    "print(\"Mean Absolute Error (MAE): \", metrics.mean_absolute_error(y_test, pred_Ridge))\n",
    "print(\"Mean Squared Error  (MSE): \", metrics.mean_squared_error(y_test, pred_Ridge))\n",
    "print(\"R2 Score             (R2): \", metrics.r2_score(y_test, pred_Ridge))\n",
    "\n",
    "end_time = time.time()\n",
    "elapsed_time = (end_time - start_time) / 60\n",
    "print('\\n\\n')\n",
    "print(f\"{elapsed_time:.1f} minutes to execute.\")"
   ]
  },
  {
   "cell_type": "markdown",
   "id": "cd15e958-d95f-4115-9713-9d01fd05cfa6",
   "metadata": {},
   "source": [
    "## Lasso Regression "
   ]
  },
  {
   "cell_type": "code",
   "execution_count": 7,
   "id": "c2dafa2d-bdb2-4ff6-954c-c9623356bfa2",
   "metadata": {},
   "outputs": [
    {
     "name": "stdout",
     "output_type": "stream",
     "text": [
      "\u001b[1mLasso Regression Performance:\u001b[0m\n",
      "Mean Absolute Error (MAE):  3429.165967294308\n",
      "Mean Squared Error  (MSE):  28135442.02252226\n",
      "R2 Score             (R2):  0.8431240471401182\n",
      "\n",
      "\n",
      "\n",
      "0.1 minutes to execute.\n"
     ]
    }
   ],
   "source": [
    "start_time = time.time()\n",
    "\n",
    "# Create model\n",
    "Lasso_model = LassoCV(cv=5, random_state=1)\n",
    "Lasso_model.fit(X_train,y_train.ravel())\n",
    "\n",
    "# Predict the response for test dataset\n",
    "pred_Lasso = Lasso_model.predict(X_test)\n",
    "\n",
    "# Print performance\n",
    "print(\"\\033[1mLasso Regression Performance:\\033[0m\")\n",
    "print(\"Mean Absolute Error (MAE): \", metrics.mean_absolute_error(y_test, pred_Lasso))\n",
    "print(\"Mean Squared Error  (MSE): \", metrics.mean_squared_error(y_test, pred_Lasso))\n",
    "print(\"R2 Score             (R2): \", metrics.r2_score(y_test, pred_Lasso))\n",
    "\n",
    "end_time = time.time()\n",
    "elapsed_time = (end_time - start_time) / 60\n",
    "print('\\n\\n')\n",
    "print(f\"{elapsed_time:.1f} minutes to execute.\")"
   ]
  },
  {
   "cell_type": "markdown",
   "id": "49fd5ad6-6d59-4c1c-b9dc-57fc45606dcc",
   "metadata": {},
   "source": [
    "## Support Vector Regression"
   ]
  },
  {
   "cell_type": "code",
   "execution_count": 8,
   "id": "a4f3fecf-f4bc-4474-8015-b4a3161b5528",
   "metadata": {},
   "outputs": [
    {
     "name": "stdout",
     "output_type": "stream",
     "text": [
      "\u001b[1mSupport Vector Regression Performance:\u001b[0m\n",
      "Mean Absolute Error (MAE):  9406.713729606216\n",
      "Mean Squared Error  (MSE):  182016973.66927552\n",
      "R2 Score             (R2):  -0.01487960125816512\n",
      "\n",
      "\n",
      "\n",
      "0.4 minutes to execute.\n"
     ]
    }
   ],
   "source": [
    "start_time = time.time()\n",
    "\n",
    "# Create model\n",
    "SVR_model = SVR(kernel = 'rbf')\n",
    "SVR_model.fit(X_train,y_train.ravel())\n",
    "\n",
    "# Predict the response for test dataset\n",
    "pred_SVR = SVR_model.predict(X_test)\n",
    "\n",
    "# Print performance\n",
    "print(\"\\033[1mSupport Vector Regression Performance:\\033[0m\")\n",
    "print(\"Mean Absolute Error (MAE): \", metrics.mean_absolute_error(y_test, pred_SVR))\n",
    "print(\"Mean Squared Error  (MSE): \", metrics.mean_squared_error(y_test, pred_SVR))\n",
    "print(\"R2 Score             (R2): \", metrics.r2_score(y_test, pred_SVR))\n",
    "\n",
    "\n",
    "end_time = time.time()\n",
    "elapsed_time = (end_time - start_time) / 60\n",
    "print('\\n\\n')\n",
    "print(f\"{elapsed_time:.1f} minutes to execute.\")"
   ]
  },
  {
   "cell_type": "code",
   "execution_count": null,
   "id": "8a64a969-60d9-4453-882f-c3f8ca777ba3",
   "metadata": {},
   "outputs": [],
   "source": []
  }
 ],
 "metadata": {
  "kernelspec": {
   "display_name": "Python 3 (ipykernel)",
   "language": "python",
   "name": "python3"
  },
  "language_info": {
   "codemirror_mode": {
    "name": "ipython",
    "version": 3
   },
   "file_extension": ".py",
   "mimetype": "text/x-python",
   "name": "python",
   "nbconvert_exporter": "python",
   "pygments_lexer": "ipython3",
   "version": "3.11.5"
  }
 },
 "nbformat": 4,
 "nbformat_minor": 5
}
